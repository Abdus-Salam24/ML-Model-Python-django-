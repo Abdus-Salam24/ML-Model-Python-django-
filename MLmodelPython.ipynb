{
  "nbformat": 4,
  "nbformat_minor": 0,
  "metadata": {
    "colab": {
      "provenance": []
    },
    "kernelspec": {
      "name": "python3",
      "display_name": "Python 3"
    },
    "language_info": {
      "name": "python"
    }
  },
  "cells": [
    {
      "cell_type": "code",
      "execution_count": 2,
      "metadata": {
        "colab": {
          "base_uri": "https://localhost:8080/"
        },
        "id": "GU4yikEPTSgU",
        "outputId": "3becc896-fa12-495e-c6b9-270e015f18a0"
      },
      "outputs": [
        {
          "output_type": "stream",
          "name": "stdout",
          "text": [
            "Accuracy: 1.0000\n",
            "Classification Report:\n",
            "              precision    recall  f1-score   support\n",
            "\n",
            "      Setosa       1.00      1.00      1.00        10\n",
            "  Versicolor       1.00      1.00      1.00         9\n",
            "   Virginica       1.00      1.00      1.00        11\n",
            "\n",
            "    accuracy                           1.00        30\n",
            "   macro avg       1.00      1.00      1.00        30\n",
            "weighted avg       1.00      1.00      1.00        30\n",
            "\n"
          ]
        }
      ],
      "source": [
        "import pandas as pd\n",
        "from sklearn.model_selection import train_test_split\n",
        "from sklearn.ensemble import RandomForestClassifier\n",
        "from sklearn.metrics import classification_report, accuracy_score\n",
        "import pickle\n",
        "from sklearn.preprocessing import StandardScaler\n",
        "\n",
        "# Load the iris dataset\n",
        "dataset = pd.read_csv('iris1.csv')\n",
        "\n",
        "# Define features and target variable\n",
        "X = dataset.iloc[:, :-1]  # Features (all columns except the last)\n",
        "y = dataset.iloc[:, -1]   # Target variable (last column)\n",
        "\n",
        "# Split the dataset into training and test sets (80% train, 20% test)\n",
        "X_train, X_test, y_train, y_test = train_test_split(X, y, test_size=0.2, random_state=42)\n",
        "\n",
        "#scale or normalize input data\n",
        "scaler = StandardScaler()\n",
        "X_train = scaler.fit_transform(X_train)\n",
        "X_test = scaler.transform(X_test)\n",
        "\n",
        "# Initialize the RandomForestClassifier\n",
        "clf = RandomForestClassifier(n_estimators=100, random_state=42)\n",
        "\n",
        "# Train the classifier\n",
        "clf.fit(X_train, y_train)\n",
        "\n",
        "# Predict on the test set\n",
        "y_pred = clf.predict(X_test)\n",
        "\n",
        "# Evaluate the model\n",
        "accuracy = accuracy_score(y_test, y_pred)\n",
        "print(f\"Accuracy: {accuracy:.4f}\")\n",
        "print(\"Classification Report:\")\n",
        "print(classification_report(y_test, y_pred))\n",
        "\n",
        "# save model and scaler\n",
        "pickle.dump(clf,open(\"model\" + \".sav\", \"wb\"))\n",
        "pickle.dump(scaler, open(\"scalermodel\" + \".sav\", \"wb\"))"
      ]
    },
    {
      "cell_type": "code",
      "source": [
        "import pickle\n",
        "import sklearn\n",
        "from sklearn.preprocessing import StandardScaler\n",
        "\n",
        "# custom method for generating predictions\n",
        "def getPredictions(model, scalermodel, sepal_length, sepal_width, petal_length, petal_width):\n",
        "    prediction = model.predict(scalermodel.transform([[sepal_length, sepal_width, petal_length, petal_width]]))\n",
        "    return prediction\n",
        "\n",
        "\n",
        "# Main function\n",
        "if __name__ == \"__main__\":\n",
        "    # Prompt the user for inputs\n",
        "    print(\"Enter the following inputs for prediction:\")\n",
        "    sepal_length = float(input(\"Sepal Length: \"))\n",
        "    sepal_width = float(input(\"Sepal Width: \"))\n",
        "    petal_length = float(input(\"Petal Length: \"))\n",
        "    petal_width = float(input(\"Petal Width: \"))\n",
        "\n",
        "    model = pickle.load(open(\"model.sav\", \"rb\"))\n",
        "    scalermodel = pickle.load(open(\"scalermodel.sav\", \"rb\"))\n",
        "\n",
        "    result = getPredictions(model, scalermodel, sepal_length, sepal_width, petal_length, petal_width)\n",
        "\n",
        "    # Print the result\n",
        "    print(f\"Prediction: {result}\")\n",
        "\n",
        "\n"
      ],
      "metadata": {
        "colab": {
          "base_uri": "https://localhost:8080/"
        },
        "id": "_LHu1K1qo8Rs",
        "outputId": "073860cc-1c25-4245-8feb-4d99c85a0b7f"
      },
      "execution_count": 3,
      "outputs": [
        {
          "output_type": "stream",
          "name": "stdout",
          "text": [
            "Enter the following inputs for prediction:\n",
            "Sepal Length: 5\n",
            "Sepal Width: 5\n",
            "Petal Length: 2\n",
            "Petal Width: 6\n",
            "Prediction: ['Setosa']\n"
          ]
        },
        {
          "output_type": "stream",
          "name": "stderr",
          "text": [
            "/usr/local/lib/python3.10/dist-packages/sklearn/base.py:493: UserWarning: X does not have valid feature names, but StandardScaler was fitted with feature names\n",
            "  warnings.warn(\n"
          ]
        }
      ]
    }
  ]
}